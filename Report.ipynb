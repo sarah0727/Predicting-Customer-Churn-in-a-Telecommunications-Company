{
  "nbformat": 4,
  "nbformat_minor": 0,
  "metadata": {
    "colab": {
      "provenance": []
    },
    "kernelspec": {
      "name": "python3",
      "display_name": "Python 3"
    },
    "language_info": {
      "name": "python"
    }
  },
  "cells": [
    {
      "cell_type": "markdown",
      "source": [
        "# Customer Churn Prediction in a Telecommunications Company"
      ],
      "metadata": {
        "id": "e7dff4VW5EHS"
      }
    },
    {
      "cell_type": "markdown",
      "source": [
        "## Introduction"
      ],
      "metadata": {
        "id": "d0dRXLgL6zFo"
      }
    },
    {
      "cell_type": "markdown",
      "source": [
        "The primary objective of this project was to develop a predictive model to identify customers at risk of churning for a telecommunications company. By predicting churn, the company can take proactive measures to retain these customers, thereby improving its revenue and customer satisfaction."
      ],
      "metadata": {
        "id": "Utt06sKM64UH"
      }
    },
    {
      "cell_type": "markdown",
      "source": [
        "## Exploratory Data Analysis"
      ],
      "metadata": {
        "id": "deI3B29Y7a7j"
      }
    },
    {
      "cell_type": "markdown",
      "source": [
        "Initally, the dataset was examined , which included:\n",
        "\n",
        "\n",
        "1.   Customer Demographics: Variables : `gender`,`SeniorCitizen`,`Partner`,`Dependents`\n",
        "2.  Service Usage: Variables related to phone and internet services like `PhoneService`, `MultipleLines`, `InternetService`, `OnlineSecurity`, `OnlineBackup`, `DeviceProtection`, `TechSupport`, `StreamingTV`, and `StreamingMovies`.\n",
        "3.  Account Information : Variables like `Contract`, `PaperlessBilling`,\n",
        " `PaymentMethod`, `MonthlyCharges`, and\n",
        " `TotalCharges`.\n",
        "4. `Churn`: This is the class label also known as target variable that tells us whether the customer churned or not.\n",
        "\n"
      ],
      "metadata": {
        "id": "bNsyeHGE8mc1"
      }
    },
    {
      "cell_type": "markdown",
      "source": [
        "### Key Observations from EDA"
      ],
      "metadata": {
        "id": "rVhbelW1-H64"
      }
    },
    {
      "cell_type": "markdown",
      "source": [
        "\n",
        "\n",
        "*   The `TotalCharges` column contained some non-numeric values, which were converted to numeric after handling missing values.\n",
        "*   There were significant imbalances in some categorical variables, such as `Churn`, where non-churned customers were more prevalent.\n",
        "*   The distribution of `TotalCharges` showed right-skewness, indicating that most customers had lower charges, with fewer customers having higher charges.\n",
        "\n"
      ],
      "metadata": {
        "id": "IhmJACws-PeZ"
      }
    },
    {
      "cell_type": "markdown",
      "source": [
        "## Data Preprocessing"
      ],
      "metadata": {
        "id": "2SoqChEo-mQl"
      }
    },
    {
      "cell_type": "markdown",
      "source": [
        "\n",
        "\n",
        "*   Handling Missing Values: For `TotalCharges`, missing values were imputed using the median.\n",
        "*   Encoding Categorical Variables: Binary categorical variables were encoded using binary encoding, while multi-category variables were one-hot encoded.\n",
        "\n",
        "\n",
        "\n"
      ],
      "metadata": {
        "id": "3z25UfJW-zsi"
      }
    },
    {
      "cell_type": "markdown",
      "source": [
        "## Feature engineering"
      ],
      "metadata": {
        "id": "0uCJ93BQ_OQ0"
      }
    },
    {
      "cell_type": "markdown",
      "source": [
        "**Correlation Analysis:** A correlation matrix was used to identify features with a correlation higher than 0.1 or lower than -0.1 with the target variable `Churn`. This step was crucial to reduce dimensionality and focus on the most relevant features.\n",
        "The final features selected included `tenure`, `MonthlyCharges`, `TotalCharges`, `Contract` (one-hot encoded), and other relevant service-related features."
      ],
      "metadata": {
        "id": "QgS1sRRm_Tns"
      }
    },
    {
      "cell_type": "markdown",
      "source": [
        "## Model Selection and Training"
      ],
      "metadata": {
        "id": "ODEeXOrX_nhb"
      }
    },
    {
      "cell_type": "markdown",
      "source": [
        "Several machine learning algorithms were considered and trained:\n",
        "\n",
        "\n",
        "1.   Logistic Regression\n",
        "2.   Random Forest\n",
        "3.   Gradient boosting\n",
        "\n"
      ],
      "metadata": {
        "id": "t8wbOuhU_vpJ"
      }
    },
    {
      "cell_type": "markdown",
      "source": [
        "### Visualization of Model Performance\n",
        "A comparison of the accuracy of different models was visualized using a bar plot.\n",
        "\n",
        "For this project, Gradient Boosting was selected for further hyperparameter tuning due to its superior performance during initial evaluations.\n",
        "\n",
        "### **Hyperparameter Tuning**\n",
        "Hyperparameter tuning for the Gradient Boosting model was conducted using Randomized Search to maximize the model's performance.\n",
        "\n",
        "Randomized Search: Explored a wide range of hyperparameters, such as n_estimators, learning_rate, max_depth, min_samples_split, min_samples_leaf, and subsample.\n",
        "\n",
        "## Evaluation Results\n",
        "\n",
        "Each model was evaluated using accuracy.\n",
        "\n",
        "The results for Gradient Boosting were:\n",
        "*   Accuracy: 0.77\n",
        "*   Precision: 0.55\n",
        "*   Recall: 0.77\n",
        "*   F1-Score: 0.64\n",
        "\n",
        "These results are rounded off to 2 decimal points.\n",
        "\n",
        "The confusion matrix for the tuned Gradient Boosting model highlighted the number of true positives, true negatives, false positives, and false negatives, showcasing the model's balanced performance.\n",
        "\n",
        "## Challenges Faced\n",
        "**Imbalanced Dataset**: The `Churn` variable was imbalanced, with more non-churned customers. Techniques such as SMOTE (Synthetic Minority Over-sampling Technique) is considered to address this imbalance.\n",
        "**Feature Selection**: Identifying the most relevant features without overfitting was crucial. This was managed through correlation analysis and iterative experimentation with different subsets of features.\n",
        "**Hyperparameter Tuning**: Finding the optimal hyperparameters for models, particularly Gradient Boosting, required extensive search and cross-validation, which was computationally intensive."
      ],
      "metadata": {
        "id": "K4ItsDYMANdD"
      }
    },
    {
      "cell_type": "markdown",
      "source": [
        "## Conclusion\n",
        "\n",
        "The project successfully developed a predictive model for customer churn, with Gradient Boosting achieving the highest accuracy. The insights gained from EDA and feature engineering were crucial in building an effective model. Despite challenges like imbalanced data and feature selection, the project provided valuable predictions that can help the telecommunications company in retaining customers and reducing churn.\n",
        "\n",
        "Future work could explore advanced techniques like ensemble methods and deep learning, as well as strategies to handle class imbalance more effectively. Additionally, integrating customer feedback and service interaction data might further enhance the model's predictive power.\n",
        "\n",
        "\n",
        "\n",
        "\n",
        "\n",
        "\n"
      ],
      "metadata": {
        "id": "ulnkYnBHAbBM"
      }
    },
    {
      "cell_type": "markdown",
      "source": [
        "\n",
        "\n",
        "---\n",
        "\n"
      ],
      "metadata": {
        "id": "9W_BbG0iDWk5"
      }
    }
  ]
}